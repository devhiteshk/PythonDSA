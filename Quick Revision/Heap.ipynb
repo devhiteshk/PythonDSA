{
 "cells": [
  {
   "cell_type": "markdown",
   "metadata": {},
   "source": [
    "### Binary Heap\n",
    "\n",
    "##### A Binary Heap is a Binary Tree with following properties.\n",
    "\n",
    "1. It’s a complete tree (All levels are completely filled except possibly the last level and the last level has all keys as left as possible). This property of Binary Heap makes them suitable to be stored in an array.\n",
    "\n",
    "2. A Binary Heap is either Min Heap or Max Heap. In a Min Binary Heap, the key at root must be minimum among all keys present in Binary Heap. The same property must be recursively true for all nodes in Binary Tree. Max Binary Heap is similar to MinHeap.\n",
    "\n",
    "##### Example of min heap:\n",
    "\n",
    "                                                10                      10\n",
    "                                              /    \\                 /       \\  \n",
    "                                            20      100            15         30  \n",
    "                                            /                      /  \\      /  \\\n",
    "                                          30                     40    50  100   40\n",
    "                                          \n",
    "##### Binary Heap required for ->\n",
    "- Prim's\n",
    "- Heap Sort\n",
    "- priority Queue\n",
    "\n",
    "Min Heap -> parent node value is less than or equal to children\n",
    "Max Heap -> parent node value is greater than its children\n",
    "\n",
    "##### Heap is represented as a array\n",
    "\n",
    "- Left child = cell[2x]\n",
    "- Right child = cell[2x+1]\n"
   ]
  },
  {
   "cell_type": "code",
   "execution_count": 17,
   "metadata": {},
   "outputs": [],
   "source": [
    "# Binary heap in Python\n",
    "\n",
    "class Heap:\n",
    "    def __init__(self,size):\n",
    "        self.List = (size+1)*[None]\n",
    "        self.heapSize = 0\n",
    "        self.maxSize = size + 1\n",
    "\n",
    "def peekHeap(rootNode):\n",
    "    if not rootNode:\n",
    "        return\n",
    "    else:\n",
    "        return rootNode.List[1]\n",
    "\n",
    "def sizeofHeap(rootNode):\n",
    "    if not rootNode:\n",
    "        return\n",
    "    else:\n",
    "        return rootNode.heapSize\n",
    "        \n",
    "def levelOrder(rootNode):\n",
    "    if not rootNode:\n",
    "        return \n",
    "    else:\n",
    "        for i in range(1, rootNode.heapSize + 1):\n",
    "            print(rootNode.List[i])"
   ]
  },
  {
   "cell_type": "code",
   "execution_count": 18,
   "metadata": {},
   "outputs": [],
   "source": [
    "# Insert into binary heap\n",
    "\n",
    "def heapifyTreeInsert(rootNode, index, heapType):\n",
    "    parent_index = int(index/2)\n",
    "    if index <= 1:\n",
    "        return\n",
    "\n",
    "    if heapType == \"Min\":\n",
    "        if rootNode.List[index] < rootNode.List[parent_index]:  # if value at index is less than parent value in min heap then swap\n",
    "            rootNode.List[index], rootNode.List[parent_index] = rootNode.List[parent_index], rootNode.List[index]\n",
    "\n",
    "        heapifyTreeInsert(rootNode, parent_index, heapType)     # repeat for all parent nodes above it\n",
    "\n",
    "    elif heapType == \"Max\":\n",
    "        if rootNode.List[index] > rootNode.List[parent_index]:  # if value at index is more than parent value in max heap then swap\n",
    "            rootNode.List[index], rootNode.List[parent_index] = rootNode.List[parent_index], rootNode.List[index]\n",
    "\n",
    "        heapifyTreeInsert(rootNode, parent_index, heapType)     # repeat for all parent nodes above it\n",
    "\n",
    "\n",
    "def insertNode(rootNode, value, heapType):\n",
    "    if rootNode.heapSize + 1 == rootNode.maxSize:\n",
    "        return \"Binary Heap is Full !\"\n",
    "\n",
    "    rootNode.List[rootNode.heapSize + 1] = value\n",
    "    rootNode.heapSize += 1\n",
    "    heapifyTreeInsert(rootNode, rootNode.heapSize, heapType)\n",
    "    return \"INSERTED INTO HEAP\"\n"
   ]
  },
  {
   "cell_type": "code",
   "execution_count": 25,
   "metadata": {},
   "outputs": [
    {
     "name": "stdout",
     "output_type": "stream",
     "text": [
      "8\n",
      "5\n",
      "7\n",
      "1\n",
      "4\n",
      "2\n",
      "6\n"
     ]
    }
   ],
   "source": [
    "newHeap = Heap(10)\n",
    "insertNode(newHeap, 4, \"Max\")\n",
    "insertNode(newHeap, 5, \"Max\")\n",
    "insertNode(newHeap, 2, \"Max\")\n",
    "insertNode(newHeap, 1, \"Max\")\n",
    "insertNode(newHeap, 6, \"Max\")\n",
    "insertNode(newHeap, 7, \"Max\")\n",
    "insertNode(newHeap, 8, \"Max\")\n",
    "# deleteEntireBP(newHeap)\n",
    "levelOrder(newHeap)\n"
   ]
  },
  {
   "cell_type": "code",
   "execution_count": 26,
   "metadata": {},
   "outputs": [],
   "source": [
    "# Deleting a node from Heap -> rule -> only rootNode can be extracted from a heap\n",
    "\n",
    "def heapifyTreeExtract(rootNode, index, heapType):\n",
    "    leftIndex = index*2\n",
    "    rightIndex = index*2 + 1\n",
    "    swapChild = 0\n",
    "\n",
    "    if rootNode.heapSize < leftIndex:\n",
    "        return\n",
    "\n",
    "    elif rootNode.heapSize == leftIndex:\n",
    "        if heapType == \"Min\":\n",
    "            if rootNode.List[index] > rootNode.List[leftIndex]:\n",
    "                rootNode.List[index], rootNode.List[leftIndex] = rootNode.List[leftIndex], rootNode.List[index]\n",
    "            return\n",
    "    \n",
    "        else:\n",
    "            if rootNode.List[index] < rootNode.List[leftIndex]:\n",
    "                    rootNode.List[index], rootNode.List[leftIndex] = rootNode.List[leftIndex], rootNode.List[index]\n",
    "            return\n",
    "\n",
    "    else:\n",
    "        if heapType == \"Min\":\n",
    "            if rootNode.List[leftIndex] < rootNode.List[rightIndex]:\n",
    "                swapChild = leftIndex\n",
    "            else:\n",
    "                swapChild = rightIndex\n",
    "\n",
    "            if rootNode.List[index] > rootNode.List[swapChild]:\n",
    "                temp = rootNode.List[index]\n",
    "                rootNode.List[index] = rootNode.List[swapChild]\n",
    "                rootNode.List[swapChild] = temp\n",
    "            \n",
    "        else:\n",
    "            if rootNode.List[leftIndex] > rootNode.List[rightIndex]:\n",
    "                swapChild = leftIndex\n",
    "            else:\n",
    "                swapChild = rightIndex\n",
    "\n",
    "            if rootNode.List[index] < rootNode.List[swapChild]:\n",
    "                temp = rootNode.List[index]\n",
    "                rootNode.List[index] = rootNode.List[swapChild]\n",
    "                rootNode.List[swapChild] = temp\n",
    "\n",
    "    heapifyTreeExtract(rootNode, swapChild, heapType)\n",
    "        \n",
    "\n",
    "def extractNode(rootNode, heapType):\n",
    "    if rootNode.heapSize == 0:\n",
    "        return\n",
    "    else:\n",
    "        extractedNode = rootNode.List[1]\n",
    "        rootNode.List[1] = rootNode.List[rootNode.heapSize]\n",
    "        rootNode.List[rootNode.heapSize] = None\n",
    "        rootNode.heapSize -= 1\n",
    "        heapifyTreeExtract(rootNode, 1, heapType)\n",
    "        return extractedNode\n",
    "\n",
    "def deleteEntireBP(rootNode):\n",
    "    rootNode.List = None"
   ]
  },
  {
   "cell_type": "code",
   "execution_count": 27,
   "metadata": {},
   "outputs": [
    {
     "name": "stdout",
     "output_type": "stream",
     "text": [
      "7\n",
      "5\n",
      "6\n",
      "1\n",
      "4\n",
      "2\n"
     ]
    }
   ],
   "source": [
    "extractNode(newHeap, \"Max\")\n",
    "levelOrder(newHeap)"
   ]
  }
 ],
 "metadata": {
  "kernelspec": {
   "display_name": "Python 3.9.6 64-bit",
   "language": "python",
   "name": "python3"
  },
  "language_info": {
   "codemirror_mode": {
    "name": "ipython",
    "version": 3
   },
   "file_extension": ".py",
   "mimetype": "text/x-python",
   "name": "python",
   "nbconvert_exporter": "python",
   "pygments_lexer": "ipython3",
   "version": "3.9.6"
  },
  "orig_nbformat": 4,
  "vscode": {
   "interpreter": {
    "hash": "3f0a9274e75c54eb3e70f4e922c22401024819649077c3b94c640e414f9dfbbe"
   }
  }
 },
 "nbformat": 4,
 "nbformat_minor": 2
}
